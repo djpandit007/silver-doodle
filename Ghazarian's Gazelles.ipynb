{
 "cells": [
  {
   "cell_type": "markdown",
   "metadata": {},
   "source": [
    "## Importing the CSV File containing the data"
   ]
  },
  {
   "cell_type": "markdown",
   "metadata": {},
   "source": [
    "Using Pandas for reading the CSV file. Benchmarks showed it to be the fastest!"
   ]
  },
  {
   "cell_type": "code",
   "execution_count": 1,
   "metadata": {
    "collapsed": true
   },
   "outputs": [],
   "source": [
    "import pandas"
   ]
  },
  {
   "cell_type": "code",
   "execution_count": 4,
   "metadata": {
    "collapsed": false
   },
   "outputs": [],
   "source": [
    "filename = \"Instant_1486487317325.csv\"\n",
    "csvDelimiter = ','\n",
    "\n",
    "def open_with_pandas_read_csv(filename):\n",
    "    df = pandas.read_csv(filename, sep=csvDelimiter, header=0)\n",
    "    header = df.columns\n",
    "    data = df.values\n",
    "    return header, data\n",
    "\n",
    "columnNames, data = open_with_pandas_read_csv(filename)"
   ]
  },
  {
   "cell_type": "code",
   "execution_count": 5,
   "metadata": {
    "collapsed": false
   },
   "outputs": [
    {
     "name": "stdout",
     "output_type": "stream",
     "text": [
      "Index([u'Date', u'Device Minute', u'Unlock Count', u'com.emberify.instant',\n",
      "       u'com.android.settings', u'com.whatsapp', u'com.Slack',\n",
      "       u'com.google.android.apps.inbox', u'com.android.chrome',\n",
      "       u'com.android.systemui',\n",
      "       ...\n",
      "       u'com.babeltimeus.legendstd', u'com.android.soundrecorder',\n",
      "       u'com.bose.monet', u'Walking Time', u'Running Time', u'Traveling Time',\n",
      "       u'Steps', u'Home(Ram Maruti RdNaupada, Thane West)', u'()',\n",
      "       u'USA Home(1019 East University Drive, United States)'],\n",
      "      dtype='object', length=134)\n",
      "40870\n"
     ]
    }
   ],
   "source": [
    "print columnNames\n",
    "print data.size"
   ]
  },
  {
   "cell_type": "code",
   "execution_count": null,
   "metadata": {
    "collapsed": true
   },
   "outputs": [],
   "source": []
  },
  {
   "cell_type": "markdown",
   "metadata": {},
   "source": [
    "Using the Python libraries Bokeh and Seaborn for data visualisation.\n",
    "Libraries suggested by Abhishek Juneja (https://github.com/darth-dodo)"
   ]
  },
  {
   "cell_type": "code",
   "execution_count": 3,
   "metadata": {
    "collapsed": true
   },
   "outputs": [],
   "source": [
    "import bokeh\n",
    "import seaborn as sns"
   ]
  }
 ],
 "metadata": {
  "anaconda-cloud": {},
  "kernelspec": {
   "display_name": "Python [default]",
   "language": "python",
   "name": "python2"
  },
  "language_info": {
   "codemirror_mode": {
    "name": "ipython",
    "version": 2
   },
   "file_extension": ".py",
   "mimetype": "text/x-python",
   "name": "python",
   "nbconvert_exporter": "python",
   "pygments_lexer": "ipython2",
   "version": "2.7.12"
  }
 },
 "nbformat": 4,
 "nbformat_minor": 1
}
