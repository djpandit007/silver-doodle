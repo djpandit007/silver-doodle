{
 "cells": [
  {
   "cell_type": "markdown",
   "metadata": {},
   "source": [
    "## Importing the CSV File containing the data"
   ]
  },
  {
   "cell_type": "markdown",
   "metadata": {},
   "source": [
    "Using Pandas for reading the CSV file. Benchmarks showed it to be the fastest!"
   ]
  },
  {
   "cell_type": "code",
   "execution_count": 1,
   "metadata": {
    "collapsed": true
   },
   "outputs": [],
   "source": [
    "import pandas"
   ]
  },
  {
   "cell_type": "code",
   "execution_count": 4,
   "metadata": {
    "collapsed": false
   },
   "outputs": [],
   "source": [
    "filename = \"Instant_1486487317325.csv\"\n",
    "csvDelimiter = ','\n",
    "\n",
    "def open_with_pandas_read_csv(filename):\n",
    "    df = pandas.read_csv(filename, sep=csvDelimiter, header=0)\n",
    "#     header = df.columns\n",
    "#     data = df.values\n",
    "    return df\n",
    "\n",
    "dataFrame = open_with_pandas_read_csv(filename)"
   ]
  },
  {
   "cell_type": "code",
   "execution_count": 6,
   "metadata": {
    "collapsed": false
   },
   "outputs": [
    {
     "name": "stdout",
     "output_type": "stream",
     "text": [
      "           Date  Device Minute  Unlock Count  Instant  Android Settings  \\\n",
      "0   Apr 7, 2016            202            83        1                 0   \n",
      "1   Apr 8, 2016            381            99        1                 1   \n",
      "2   Apr 9, 2016            270            79        2                 0   \n",
      "3  Apr 10, 2016            339            82        0                 2   \n",
      "4  Apr 11, 2016            206            81        1                 0   \n",
      "\n",
      "   WhatsApp  Slack  Inbox  Chrome  File Manager    ...     Piazza  Legends TD  \\\n",
      "0         6      1      0       1             0    ...          0           0   \n",
      "1       144      1      3       8             0    ...          0           0   \n",
      "2       121      1      3       0             0    ...          0           0   \n",
      "3        30      2      3       2             0    ...          0           0   \n",
      "4        34      0      4       8             0    ...          0           0   \n",
      "\n",
      "   Sound Recorder  Bose  Walking Time  Running Time  Traveling Time  Steps  \\\n",
      "0               0     0            38             5             188   8445   \n",
      "1               0     0           136             0             147  13997   \n",
      "2               0     0            13             0             148   2847   \n",
      "3               0     0            34             0              25   4537   \n",
      "4               0     0            62             0             149   6409   \n",
      "\n",
      "   India Home  USA Home  \n",
      "0           0         0  \n",
      "1           0         0  \n",
      "2         503         0  \n",
      "3        1194         0  \n",
      "4         216         0  \n",
      "\n",
      "[5 rows x 109 columns]\n"
     ]
    }
   ],
   "source": [
    "print dataFrame.head()\n",
    "headers = dataFrame.columns\n",
    "data = dataFrame.values"
   ]
  },
  {
   "cell_type": "code",
   "execution_count": null,
   "metadata": {
    "collapsed": true
   },
   "outputs": [],
   "source": []
  },
  {
   "cell_type": "markdown",
   "metadata": {},
   "source": [
    "Using the Python libraries Bokeh and Seaborn for data visualisation.\n",
    "Libraries suggested by Abhishek Juneja (https://github.com/darth-dodo)"
   ]
  },
  {
   "cell_type": "code",
   "execution_count": 3,
   "metadata": {
    "collapsed": true
   },
   "outputs": [],
   "source": [
    "import bokeh\n",
    "import seaborn as sns"
   ]
  }
 ],
 "metadata": {
  "anaconda-cloud": {},
  "kernelspec": {
   "display_name": "Python [default]",
   "language": "python",
   "name": "python2"
  },
  "language_info": {
   "codemirror_mode": {
    "name": "ipython",
    "version": 2
   },
   "file_extension": ".py",
   "mimetype": "text/x-python",
   "name": "python",
   "nbconvert_exporter": "python",
   "pygments_lexer": "ipython2",
   "version": "2.7.12"
  }
 },
 "nbformat": 4,
 "nbformat_minor": 1
}
